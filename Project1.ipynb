{
 "cells": [
  {
   "cell_type": "code",
   "execution_count": null,
   "id": "0b1cd834",
   "metadata": {},
   "outputs": [],
   "source": [
    "# Salary variation in KSA -understanding \n",
    "# 1. How much is the salary increase berween 2017 and 2021 , for different type of education?\n",
    "# 2. What is the salary difference for Male and Female employees during 2017-2021 ?\n",
    "# 3. what is the percentage of salary for Saudis compared to Non Saudis ?"
   ]
  },
  {
   "cell_type": "code",
   "execution_count": 2,
   "id": "89b7f3f1",
   "metadata": {},
   "outputs": [
    {
     "data": {
      "text/html": [
       "<div>\n",
       "<style scoped>\n",
       "    .dataframe tbody tr th:only-of-type {\n",
       "        vertical-align: middle;\n",
       "    }\n",
       "\n",
       "    .dataframe tbody tr th {\n",
       "        vertical-align: top;\n",
       "    }\n",
       "\n",
       "    .dataframe thead th {\n",
       "        text-align: right;\n",
       "    }\n",
       "</style>\n",
       "<table border=\"1\" class=\"dataframe\">\n",
       "  <thead>\n",
       "    <tr style=\"text-align: right;\">\n",
       "      <th></th>\n",
       "      <th>Degree Level</th>\n",
       "      <th>Nationality</th>\n",
       "      <th>Gender</th>\n",
       "      <th>Year</th>\n",
       "      <th>Quarter</th>\n",
       "      <th>Salary</th>\n",
       "      <th>Currency</th>\n",
       "    </tr>\n",
       "  </thead>\n",
       "  <tbody>\n",
       "    <tr>\n",
       "      <th>0</th>\n",
       "      <td>Primary</td>\n",
       "      <td>NonSaudi</td>\n",
       "      <td>Female</td>\n",
       "      <td>2017</td>\n",
       "      <td>Q1</td>\n",
       "      <td>1590</td>\n",
       "      <td>SAR</td>\n",
       "    </tr>\n",
       "    <tr>\n",
       "      <th>1</th>\n",
       "      <td>Primary</td>\n",
       "      <td>NonSaudi</td>\n",
       "      <td>Male</td>\n",
       "      <td>2017</td>\n",
       "      <td>Q1</td>\n",
       "      <td>2173</td>\n",
       "      <td>SAR</td>\n",
       "    </tr>\n",
       "    <tr>\n",
       "      <th>2</th>\n",
       "      <td>Primary</td>\n",
       "      <td>Saudi</td>\n",
       "      <td>Female</td>\n",
       "      <td>2017</td>\n",
       "      <td>Q1</td>\n",
       "      <td>4172</td>\n",
       "      <td>SAR</td>\n",
       "    </tr>\n",
       "    <tr>\n",
       "      <th>3</th>\n",
       "      <td>Primary</td>\n",
       "      <td>Saudi</td>\n",
       "      <td>Male</td>\n",
       "      <td>2017</td>\n",
       "      <td>Q1</td>\n",
       "      <td>6172</td>\n",
       "      <td>SAR</td>\n",
       "    </tr>\n",
       "    <tr>\n",
       "      <th>4</th>\n",
       "      <td>Primary</td>\n",
       "      <td>NonSaudi</td>\n",
       "      <td>Female</td>\n",
       "      <td>2017</td>\n",
       "      <td>Q2</td>\n",
       "      <td>1597</td>\n",
       "      <td>SAR</td>\n",
       "    </tr>\n",
       "    <tr>\n",
       "      <th>5</th>\n",
       "      <td>Primary</td>\n",
       "      <td>NonSaudi</td>\n",
       "      <td>Male</td>\n",
       "      <td>2017</td>\n",
       "      <td>Q2</td>\n",
       "      <td>2213</td>\n",
       "      <td>SAR</td>\n",
       "    </tr>\n",
       "    <tr>\n",
       "      <th>6</th>\n",
       "      <td>Primary</td>\n",
       "      <td>Saudi</td>\n",
       "      <td>Female</td>\n",
       "      <td>2017</td>\n",
       "      <td>Q2</td>\n",
       "      <td>3875</td>\n",
       "      <td>SAR</td>\n",
       "    </tr>\n",
       "    <tr>\n",
       "      <th>7</th>\n",
       "      <td>Primary</td>\n",
       "      <td>Saudi</td>\n",
       "      <td>Male</td>\n",
       "      <td>2017</td>\n",
       "      <td>Q2</td>\n",
       "      <td>5957</td>\n",
       "      <td>SAR</td>\n",
       "    </tr>\n",
       "    <tr>\n",
       "      <th>8</th>\n",
       "      <td>Primary</td>\n",
       "      <td>NonSaudi</td>\n",
       "      <td>Female</td>\n",
       "      <td>2017</td>\n",
       "      <td>Q3</td>\n",
       "      <td>1596</td>\n",
       "      <td>SAR</td>\n",
       "    </tr>\n",
       "    <tr>\n",
       "      <th>9</th>\n",
       "      <td>Primary</td>\n",
       "      <td>NonSaudi</td>\n",
       "      <td>Male</td>\n",
       "      <td>2017</td>\n",
       "      <td>Q3</td>\n",
       "      <td>2250</td>\n",
       "      <td>SAR</td>\n",
       "    </tr>\n",
       "  </tbody>\n",
       "</table>\n",
       "</div>"
      ],
      "text/plain": [
       "  Degree Level Nationality  Gender  Year Quarter  Salary Currency\n",
       "0      Primary    NonSaudi  Female  2017      Q1    1590      SAR\n",
       "1      Primary    NonSaudi    Male  2017      Q1    2173      SAR\n",
       "2      Primary       Saudi  Female  2017      Q1    4172      SAR\n",
       "3      Primary       Saudi    Male  2017      Q1    6172      SAR\n",
       "4      Primary    NonSaudi  Female  2017      Q2    1597      SAR\n",
       "5      Primary    NonSaudi    Male  2017      Q2    2213      SAR\n",
       "6      Primary       Saudi  Female  2017      Q2    3875      SAR\n",
       "7      Primary       Saudi    Male  2017      Q2    5957      SAR\n",
       "8      Primary    NonSaudi  Female  2017      Q3    1596      SAR\n",
       "9      Primary    NonSaudi    Male  2017      Q3    2250      SAR"
      ]
     },
     "execution_count": 2,
     "metadata": {},
     "output_type": "execute_result"
    }
   ],
   "source": [
    "#Data Understanding\n",
    "#Read the first 10 rows of data from the Dataset \n",
    "import pandas as pd\n",
    "import matplotlib.pyplot as plt\n",
    "df = pd.read_csv(r'C:\\Users\\Fadwa\\OneDrive\\Desktop\\project 1\\Salary by Education-KSA.csv')\n",
    "df.head(10)"
   ]
  },
  {
   "cell_type": "code",
   "execution_count": 3,
   "id": "a707e41e",
   "metadata": {
    "scrolled": true
   },
   "outputs": [
    {
     "name": "stdout",
     "output_type": "stream",
     "text": [
      "<class 'pandas.core.frame.DataFrame'>\n",
      "RangeIndex: 504 entries, 0 to 503\n",
      "Data columns (total 7 columns):\n",
      " #   Column        Non-Null Count  Dtype \n",
      "---  ------        --------------  ----- \n",
      " 0   Degree Level  504 non-null    object\n",
      " 1   Nationality   504 non-null    object\n",
      " 2   Gender        504 non-null    object\n",
      " 3   Year          504 non-null    int64 \n",
      " 4   Quarter       504 non-null    object\n",
      " 5   Salary        504 non-null    int64 \n",
      " 6   Currency      504 non-null    object\n",
      "dtypes: int64(2), object(5)\n",
      "memory usage: 27.7+ KB\n"
     ]
    }
   ],
   "source": [
    "df.info()"
   ]
  },
  {
   "cell_type": "code",
   "execution_count": 4,
   "id": "f80b7228",
   "metadata": {
    "scrolled": true
   },
   "outputs": [
    {
     "data": {
      "text/html": [
       "<div>\n",
       "<style scoped>\n",
       "    .dataframe tbody tr th:only-of-type {\n",
       "        vertical-align: middle;\n",
       "    }\n",
       "\n",
       "    .dataframe tbody tr th {\n",
       "        vertical-align: top;\n",
       "    }\n",
       "\n",
       "    .dataframe thead th {\n",
       "        text-align: right;\n",
       "    }\n",
       "</style>\n",
       "<table border=\"1\" class=\"dataframe\">\n",
       "  <thead>\n",
       "    <tr style=\"text-align: right;\">\n",
       "      <th></th>\n",
       "      <th>Year</th>\n",
       "      <th>Salary</th>\n",
       "    </tr>\n",
       "  </thead>\n",
       "  <tbody>\n",
       "    <tr>\n",
       "      <th>count</th>\n",
       "      <td>504.000000</td>\n",
       "      <td>504.000000</td>\n",
       "    </tr>\n",
       "    <tr>\n",
       "      <th>mean</th>\n",
       "      <td>2018.777778</td>\n",
       "      <td>8950.031746</td>\n",
       "    </tr>\n",
       "    <tr>\n",
       "      <th>std</th>\n",
       "      <td>1.315991</td>\n",
       "      <td>6372.635277</td>\n",
       "    </tr>\n",
       "    <tr>\n",
       "      <th>min</th>\n",
       "      <td>2017.000000</td>\n",
       "      <td>1331.000000</td>\n",
       "    </tr>\n",
       "    <tr>\n",
       "      <th>25%</th>\n",
       "      <td>2018.000000</td>\n",
       "      <td>4194.000000</td>\n",
       "    </tr>\n",
       "    <tr>\n",
       "      <th>50%</th>\n",
       "      <td>2019.000000</td>\n",
       "      <td>7890.500000</td>\n",
       "    </tr>\n",
       "    <tr>\n",
       "      <th>75%</th>\n",
       "      <td>2020.000000</td>\n",
       "      <td>12448.750000</td>\n",
       "    </tr>\n",
       "    <tr>\n",
       "      <th>max</th>\n",
       "      <td>2021.000000</td>\n",
       "      <td>35622.000000</td>\n",
       "    </tr>\n",
       "  </tbody>\n",
       "</table>\n",
       "</div>"
      ],
      "text/plain": [
       "              Year        Salary\n",
       "count   504.000000    504.000000\n",
       "mean   2018.777778   8950.031746\n",
       "std       1.315991   6372.635277\n",
       "min    2017.000000   1331.000000\n",
       "25%    2018.000000   4194.000000\n",
       "50%    2019.000000   7890.500000\n",
       "75%    2020.000000  12448.750000\n",
       "max    2021.000000  35622.000000"
      ]
     },
     "execution_count": 4,
     "metadata": {},
     "output_type": "execute_result"
    }
   ],
   "source": [
    "df.describe()"
   ]
  },
  {
   "cell_type": "code",
   "execution_count": 5,
   "id": "f2e66b34",
   "metadata": {},
   "outputs": [
    {
     "name": "stdout",
     "output_type": "stream",
     "text": [
      "Number of rows: 504\n",
      "Number of columns: 7\n"
     ]
    }
   ],
   "source": [
    "print(\"Number of rows:\" , df.shape[0]) \n",
    "print(\"Number of columns:\" , df.shape[1])"
   ]
  },
  {
   "cell_type": "code",
   "execution_count": 6,
   "id": "a8527a17",
   "metadata": {
    "scrolled": false
   },
   "outputs": [
    {
     "data": {
      "text/plain": [
       "Degree Level    0\n",
       "Nationality     0\n",
       "Gender          0\n",
       "Year            0\n",
       "Quarter         0\n",
       "Salary          0\n",
       "Currency        0\n",
       "dtype: int64"
      ]
     },
     "execution_count": 6,
     "metadata": {},
     "output_type": "execute_result"
    }
   ],
   "source": [
    "#Data Preparation \n",
    "# we will prepare the data to be used later for the full analysis\n",
    "##Find and correct the missing values in the dataset? \n",
    "df.isna().sum()"
   ]
  },
  {
   "cell_type": "code",
   "execution_count": 7,
   "id": "ebdebacc",
   "metadata": {
    "scrolled": true
   },
   "outputs": [
    {
     "data": {
      "text/plain": [
       "Degree Level    0\n",
       "Nationality     0\n",
       "Gender          0\n",
       "Year            0\n",
       "Quarter         0\n",
       "Salary          0\n",
       "Currency        0\n",
       "dtype: int64"
      ]
     },
     "execution_count": 7,
     "metadata": {},
     "output_type": "execute_result"
    }
   ],
   "source": [
    "#drop null values\n",
    "df = df.dropna()\n",
    "df.isna().sum()"
   ]
  },
  {
   "cell_type": "code",
   "execution_count": 8,
   "id": "a9460849",
   "metadata": {},
   "outputs": [
    {
     "name": "stdout",
     "output_type": "stream",
     "text": [
      "0\n"
     ]
    }
   ],
   "source": [
    "#check the duplicate values \n",
    "print(df.duplicated().sum())"
   ]
  },
  {
   "cell_type": "code",
   "execution_count": null,
   "id": "db1ed30c",
   "metadata": {},
   "outputs": [],
   "source": [
    "# The data is now checked for any issues. Let us proceed to the Questions and analysis."
   ]
  },
  {
   "cell_type": "code",
   "execution_count": 10,
   "id": "4545e4d5",
   "metadata": {
    "scrolled": true
   },
   "outputs": [
    {
     "data": {
      "image/png": "[encoded data removed]",
      "text/plain": [
       "<Figure size 432x288 with 1 Axes>"
      ]
     },
     "metadata": {
      "needs_background": "light"
     },
     "output_type": "display_data"
    }
   ],
   "source": [
    "# Question 1. How much is the salary increase berween 2017 and 2021 , for different type of education?\n",
    "import pandas as pd\n",
    "import matplotlib.pyplot as plt\n",
    "df = pd.read_csv(r'C:\\Users\\Fadwa\\OneDrive\\Desktop\\project 1\\Salary by Education-KSA.csv')\n",
    "new_df=df.drop(['Nationality', 'Gender', 'Currency'], axis=1)\n",
    "y=['Salary']\n",
    "x=['Year']\n",
    "colours = ('r','y','g','b', 'c','m','k')\n",
    "result=new_df.groupby(['Year', 'Degree Level']).Salary.mean()\n",
    "result.plot.bar(y,x, color=colours)\n",
    "plt.show()"
   ]
  },
  {
   "cell_type": "code",
   "execution_count": 11,
   "id": "1d9003ab",
   "metadata": {},
   "outputs": [
    {
     "data": {
      "text/plain": [
       "<matplotlib.legend.Legend at 0x2ccced483d0>"
      ]
     },
     "execution_count": 11,
     "metadata": {},
     "output_type": "execute_result"
    },
    {
     "data": {
      "image/png": "[encoded data removed]",
      "text/plain": [
       "<Figure size 432x288 with 1 Axes>"
      ]
     },
     "metadata": {
      "needs_background": "light"
     },
     "output_type": "display_data"
    }
   ],
   "source": [
    "#Question 2. What is the salary difference for Male and Female employees during 2017-2021 ?\n",
    "import pandas as pd\n",
    "import matplotlib.pyplot as plt\n",
    "df = pd.read_csv(r'C:\\Users\\Fadwa\\OneDrive\\Desktop\\project 1\\Salary by Education-KSA.csv')\n",
    "result = df.groupby(['Gender','Year']).Salary.mean().unstack()\n",
    "result.plot.bar()\n",
    "plt.legend()"
   ]
  },
  {
   "cell_type": "code",
   "execution_count": 12,
   "id": "8b4535ce",
   "metadata": {},
   "outputs": [
    {
     "data": {
      "image/png": "[encoded data removed]",
      "text/plain": [
       "<Figure size 432x288 with 1 Axes>"
      ]
     },
     "metadata": {
      "needs_background": "light"
     },
     "output_type": "display_data"
    }
   ],
   "source": [
    "# 3. what is the range of salary for Saudis compared to Non Saudis ?\n",
    "import pandas as pd\n",
    "import matplotlib.pyplot as plt\n",
    "df = pd.read_csv(r'C:\\Users\\Fadwa\\OneDrive\\Desktop\\project 1\\Salary by Education-KSA.csv')\n",
    "new_df=df.drop(['Gender', 'Currency'], axis=1)\n",
    "colours = ('r','y','g','b', 'c')\n",
    "result=new_df.groupby(['Nationality','Year']).Salary.mean()\n",
    "result\n",
    "result.plot.barh(x='Nationality', y='Salary', color=colours)\n",
    "plt.show()"
   ]
  },
  {
   "cell_type": "code",
   "execution_count": null,
   "id": "d2f8fddc",
   "metadata": {},
   "outputs": [],
   "source": []
  }
 ],
 "metadata": {
  "kernelspec": {
   "display_name": "Python 3",
   "language": "python",
   "name": "python3"
  },
  "language_info": {
   "codemirror_mode": {
    "name": "ipython",
    "version": 3
   },
   "file_extension": ".py",
   "mimetype": "text/x-python",
   "name": "python",
   "nbconvert_exporter": "python",
   "pygments_lexer": "ipython3",
   "version": "3.8.8"
  }
 },
 "nbformat": 4,
 "nbformat_minor": 5
}
